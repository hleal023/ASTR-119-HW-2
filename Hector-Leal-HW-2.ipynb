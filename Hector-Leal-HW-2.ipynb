{
 "cells": [
  {
   "cell_type": "code",
   "execution_count": null,
   "metadata": {},
   "outputs": [],
   "source": [
    "%matplotlib inline\n",
    "import numpy as np \n",
    "import matplotlib.pyplot as plt"
   ]
  },
  {
   "cell_type": "code",
   "execution_count": null,
   "metadata": {},
   "outputs": [],
   "source": [
    "x = np.linspace(0, 2.0*np.pi, 1000)\n",
    "print(x)"
   ]
  },
  {
   "cell_type": "code",
   "execution_count": null,
   "metadata": {},
   "outputs": [],
   "source": [
    "y_a = 5.5*np.cos(2*x)+5.5 \n",
    "y_b = 0.02*np.exp(x)\n",
    "y_c = 0.25*x**2+0.1*np.sin(10*x)\n",
    "plt.plot(x, y_a, x, y_b, x, y_c)\n",
    "plt.xlim(0, 2*np.pi)\n",
    "plt.ylim(-1, 10)\n",
    "plt.xlabel('Time in ASTR/EART 119')\n",
    "plt.ylabel('Measure of Awesomeness')"
   ]
  }
 ],
 "metadata": {
  "kernelspec": {
   "display_name": "Python 3",
   "language": "python",
   "name": "python3"
  },
  "language_info": {
   "codemirror_mode": {
    "name": "ipython",
    "version": 3
   },
   "file_extension": ".py",
   "mimetype": "text/x-python",
   "name": "python",
   "nbconvert_exporter": "python",
   "pygments_lexer": "ipython3",
   "version": "3.7.0"
  }
 },
 "nbformat": 4,
 "nbformat_minor": 2
}
